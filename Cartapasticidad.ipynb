
# importing packag
import matplotlib.pyplot a plt
import numpy as np
  
# create data
x =  np.array([20,100])      #Linea A
y = np.array([0,60])         #Linea A 

x1 =  np.array([0,60])       #Linea U
y1= np.array([0,70])         #Linea U

x2 =  np.array([50,50])      #Linea B
y2= np.array([0,70])         #Linea B

x3 =  np.array([4,25])       #CL-CM
y3= np.array([4,4])          #CL-CM

x4 =  np.array([7,29])       #CL-CM
y4= np.array([7,7])          #CL-CM

x5 =  np.array([20,50])      #CM
y5= np.array([0,10])         #CM

x6 =  np.array([15,50])      #CL
y6= np.array([7,40])         #CL

x7 =  np.array([50,80])      #CH
y7= np.array([40,70])        #CH

x8 =  np.array([50,100])     #MH
y8= np.array([10,25])        #MH

z =  np.array([LL])          #LL = Limite liquido que contiene el suelo (%)
w= np.array([IP])            #IP = Indice de Plasticidad %       

# plt.figure(figsize=(25, 12))
# plot lines

plt.plot(x, y, label = "line A")
plt.plot(x1, y1, label = "linea U")
plt.plot(x2, y2, label = "linea B")
plt.plot(x3, y3, label = "CL-CM")
plt.plot(x4, y4, label = "CL-CM")
plt.plot(x5, y5, label = "CM")
plt.plot(x6, y6, label = "CL")
plt.plot(x7, y7, label = "CH")
plt.plot(x8, y8, label = "MH")
plt.title("Clasificación de suelos",fontsize=10)
plt.xlabel("Limite Liquido (LL)",fontsize=10)
plt.ylabel("Indice de plasticidad (IP)",fontsize=10)

plt.scatter(z, w)

plt.legend()
plt.show()
